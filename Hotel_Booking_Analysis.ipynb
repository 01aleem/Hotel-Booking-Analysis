{
  "nbformat": 4,
  "nbformat_minor": 0,
  "metadata": {
    "kernelspec": {
      "display_name": "Python 3",
      "language": "python",
      "name": "python3"
    },
    "language_info": {
      "codemirror_mode": {
        "name": "ipython",
        "version": 3
      },
      "file_extension": ".py",
      "mimetype": "text/x-python",
      "name": "python",
      "nbconvert_exporter": "python",
      "pygments_lexer": "ipython3",
      "version": "3.6.6"
    },
    "colab": {
      "name": "Hotel Booking Analysis.ipynb",
      "provenance": [],
      "collapsed_sections": [],
      "include_colab_link": true
    }
  },
  "cells": [
    {
      "cell_type": "markdown",
      "metadata": {
        "id": "view-in-github",
        "colab_type": "text"
      },
      "source": [
        "<a href=\"https://colab.research.google.com/github/01aleem/Hotel-Booking-Analysis/blob/main/Hotel_Booking_Analysis.ipynb\" target=\"_parent\"><img src=\"https://colab.research.google.com/assets/colab-badge.svg\" alt=\"Open In Colab\"/></a>"
      ]
    },
    {
      "cell_type": "markdown",
      "metadata": {
        "id": "Y06xIdG26kRF"
      },
      "source": [
        "## <b> Have you ever wondered when the best time of year to book a hotel room is? Or the optimal length of stay in order to get the best daily rate? What if you wanted to predict whether or not a hotel was likely to receive a disproportionately high number of special requests? This hotel booking dataset can help you explore those questions!\n",
        "\n",
        "## <b>This data set contains booking information for a city hotel and a resort hotel, and includes information such as when the booking was made, length of stay, the number of adults, children, and/or babies, and the number of available parking spaces, among other things. All personally identifying information has been removed from the data. </b>\n",
        "\n",
        "## <b> Explore and analyze the data to discover important factors that govern the bookings. </b>"
      ]
    },
    {
      "cell_type": "code",
      "metadata": {
        "id": "dByMsuzT8Tnw"
      },
      "source": [
        "import pandas as pd\n",
        "import numpy as np\n",
        "import matplotlib.pyplot as plt\n",
        "import seaborn as sns\n",
        "sns.set(color_codes = True)\n",
        "import warnings\n",
        "warnings.filterwarnings(\"ignore\")\n",
        "% matplotlib inline"
      ],
      "execution_count": 1,
      "outputs": []
    },
    {
      "cell_type": "code",
      "metadata": {
        "colab": {
          "base_uri": "https://localhost:8080/"
        },
        "id": "8IG3vEy6dxnU",
        "outputId": "86c9a396-7dc7-49ef-f39a-efd12c5d4daf"
      },
      "source": [
        "from google.colab import drive\n",
        "drive.mount('/content/drive')"
      ],
      "execution_count": 2,
      "outputs": [
        {
          "output_type": "stream",
          "name": "stdout",
          "text": [
            "Mounted at /content/drive\n"
          ]
        }
      ]
    },
    {
      "cell_type": "code",
      "metadata": {
        "id": "f5LBfFg8d-56"
      },
      "source": [
        "df = pd.read_csv('/content/drive/MyDrive/Colab Notebooks/AlmaBetter/Capstone Projects/EDA/Hotel Bookings.csv')"
      ],
      "execution_count": 3,
      "outputs": []
    },
    {
      "cell_type": "code",
      "metadata": {
        "colab": {
          "base_uri": "https://localhost:8080/",
          "height": 307
        },
        "id": "WzGBNt-1eMIX",
        "outputId": "fc03b045-943e-4bde-d95d-9302d0a85c5e"
      },
      "source": [
        "df.head()"
      ],
      "execution_count": 4,
      "outputs": [
        {
          "output_type": "execute_result",
          "data": {
            "text/html": [
              "<div>\n",
              "<style scoped>\n",
              "    .dataframe tbody tr th:only-of-type {\n",
              "        vertical-align: middle;\n",
              "    }\n",
              "\n",
              "    .dataframe tbody tr th {\n",
              "        vertical-align: top;\n",
              "    }\n",
              "\n",
              "    .dataframe thead th {\n",
              "        text-align: right;\n",
              "    }\n",
              "</style>\n",
              "<table border=\"1\" class=\"dataframe\">\n",
              "  <thead>\n",
              "    <tr style=\"text-align: right;\">\n",
              "      <th></th>\n",
              "      <th>hotel</th>\n",
              "      <th>is_canceled</th>\n",
              "      <th>lead_time</th>\n",
              "      <th>arrival_date_year</th>\n",
              "      <th>arrival_date_month</th>\n",
              "      <th>arrival_date_week_number</th>\n",
              "      <th>arrival_date_day_of_month</th>\n",
              "      <th>stays_in_weekend_nights</th>\n",
              "      <th>stays_in_week_nights</th>\n",
              "      <th>adults</th>\n",
              "      <th>children</th>\n",
              "      <th>babies</th>\n",
              "      <th>meal</th>\n",
              "      <th>country</th>\n",
              "      <th>market_segment</th>\n",
              "      <th>distribution_channel</th>\n",
              "      <th>is_repeated_guest</th>\n",
              "      <th>previous_cancellations</th>\n",
              "      <th>previous_bookings_not_canceled</th>\n",
              "      <th>reserved_room_type</th>\n",
              "      <th>assigned_room_type</th>\n",
              "      <th>booking_changes</th>\n",
              "      <th>deposit_type</th>\n",
              "      <th>agent</th>\n",
              "      <th>company</th>\n",
              "      <th>days_in_waiting_list</th>\n",
              "      <th>customer_type</th>\n",
              "      <th>adr</th>\n",
              "      <th>required_car_parking_spaces</th>\n",
              "      <th>total_of_special_requests</th>\n",
              "      <th>reservation_status</th>\n",
              "      <th>reservation_status_date</th>\n",
              "    </tr>\n",
              "  </thead>\n",
              "  <tbody>\n",
              "    <tr>\n",
              "      <th>0</th>\n",
              "      <td>Resort Hotel</td>\n",
              "      <td>0</td>\n",
              "      <td>342</td>\n",
              "      <td>2015</td>\n",
              "      <td>July</td>\n",
              "      <td>27</td>\n",
              "      <td>1</td>\n",
              "      <td>0</td>\n",
              "      <td>0</td>\n",
              "      <td>2</td>\n",
              "      <td>0.0</td>\n",
              "      <td>0</td>\n",
              "      <td>BB</td>\n",
              "      <td>PRT</td>\n",
              "      <td>Direct</td>\n",
              "      <td>Direct</td>\n",
              "      <td>0</td>\n",
              "      <td>0</td>\n",
              "      <td>0</td>\n",
              "      <td>C</td>\n",
              "      <td>C</td>\n",
              "      <td>3</td>\n",
              "      <td>No Deposit</td>\n",
              "      <td>NaN</td>\n",
              "      <td>NaN</td>\n",
              "      <td>0</td>\n",
              "      <td>Transient</td>\n",
              "      <td>0.0</td>\n",
              "      <td>0</td>\n",
              "      <td>0</td>\n",
              "      <td>Check-Out</td>\n",
              "      <td>2015-07-01</td>\n",
              "    </tr>\n",
              "    <tr>\n",
              "      <th>1</th>\n",
              "      <td>Resort Hotel</td>\n",
              "      <td>0</td>\n",
              "      <td>737</td>\n",
              "      <td>2015</td>\n",
              "      <td>July</td>\n",
              "      <td>27</td>\n",
              "      <td>1</td>\n",
              "      <td>0</td>\n",
              "      <td>0</td>\n",
              "      <td>2</td>\n",
              "      <td>0.0</td>\n",
              "      <td>0</td>\n",
              "      <td>BB</td>\n",
              "      <td>PRT</td>\n",
              "      <td>Direct</td>\n",
              "      <td>Direct</td>\n",
              "      <td>0</td>\n",
              "      <td>0</td>\n",
              "      <td>0</td>\n",
              "      <td>C</td>\n",
              "      <td>C</td>\n",
              "      <td>4</td>\n",
              "      <td>No Deposit</td>\n",
              "      <td>NaN</td>\n",
              "      <td>NaN</td>\n",
              "      <td>0</td>\n",
              "      <td>Transient</td>\n",
              "      <td>0.0</td>\n",
              "      <td>0</td>\n",
              "      <td>0</td>\n",
              "      <td>Check-Out</td>\n",
              "      <td>2015-07-01</td>\n",
              "    </tr>\n",
              "    <tr>\n",
              "      <th>2</th>\n",
              "      <td>Resort Hotel</td>\n",
              "      <td>0</td>\n",
              "      <td>7</td>\n",
              "      <td>2015</td>\n",
              "      <td>July</td>\n",
              "      <td>27</td>\n",
              "      <td>1</td>\n",
              "      <td>0</td>\n",
              "      <td>1</td>\n",
              "      <td>1</td>\n",
              "      <td>0.0</td>\n",
              "      <td>0</td>\n",
              "      <td>BB</td>\n",
              "      <td>GBR</td>\n",
              "      <td>Direct</td>\n",
              "      <td>Direct</td>\n",
              "      <td>0</td>\n",
              "      <td>0</td>\n",
              "      <td>0</td>\n",
              "      <td>A</td>\n",
              "      <td>C</td>\n",
              "      <td>0</td>\n",
              "      <td>No Deposit</td>\n",
              "      <td>NaN</td>\n",
              "      <td>NaN</td>\n",
              "      <td>0</td>\n",
              "      <td>Transient</td>\n",
              "      <td>75.0</td>\n",
              "      <td>0</td>\n",
              "      <td>0</td>\n",
              "      <td>Check-Out</td>\n",
              "      <td>2015-07-02</td>\n",
              "    </tr>\n",
              "    <tr>\n",
              "      <th>3</th>\n",
              "      <td>Resort Hotel</td>\n",
              "      <td>0</td>\n",
              "      <td>13</td>\n",
              "      <td>2015</td>\n",
              "      <td>July</td>\n",
              "      <td>27</td>\n",
              "      <td>1</td>\n",
              "      <td>0</td>\n",
              "      <td>1</td>\n",
              "      <td>1</td>\n",
              "      <td>0.0</td>\n",
              "      <td>0</td>\n",
              "      <td>BB</td>\n",
              "      <td>GBR</td>\n",
              "      <td>Corporate</td>\n",
              "      <td>Corporate</td>\n",
              "      <td>0</td>\n",
              "      <td>0</td>\n",
              "      <td>0</td>\n",
              "      <td>A</td>\n",
              "      <td>A</td>\n",
              "      <td>0</td>\n",
              "      <td>No Deposit</td>\n",
              "      <td>304.0</td>\n",
              "      <td>NaN</td>\n",
              "      <td>0</td>\n",
              "      <td>Transient</td>\n",
              "      <td>75.0</td>\n",
              "      <td>0</td>\n",
              "      <td>0</td>\n",
              "      <td>Check-Out</td>\n",
              "      <td>2015-07-02</td>\n",
              "    </tr>\n",
              "    <tr>\n",
              "      <th>4</th>\n",
              "      <td>Resort Hotel</td>\n",
              "      <td>0</td>\n",
              "      <td>14</td>\n",
              "      <td>2015</td>\n",
              "      <td>July</td>\n",
              "      <td>27</td>\n",
              "      <td>1</td>\n",
              "      <td>0</td>\n",
              "      <td>2</td>\n",
              "      <td>2</td>\n",
              "      <td>0.0</td>\n",
              "      <td>0</td>\n",
              "      <td>BB</td>\n",
              "      <td>GBR</td>\n",
              "      <td>Online TA</td>\n",
              "      <td>TA/TO</td>\n",
              "      <td>0</td>\n",
              "      <td>0</td>\n",
              "      <td>0</td>\n",
              "      <td>A</td>\n",
              "      <td>A</td>\n",
              "      <td>0</td>\n",
              "      <td>No Deposit</td>\n",
              "      <td>240.0</td>\n",
              "      <td>NaN</td>\n",
              "      <td>0</td>\n",
              "      <td>Transient</td>\n",
              "      <td>98.0</td>\n",
              "      <td>0</td>\n",
              "      <td>1</td>\n",
              "      <td>Check-Out</td>\n",
              "      <td>2015-07-03</td>\n",
              "    </tr>\n",
              "  </tbody>\n",
              "</table>\n",
              "</div>"
            ],
            "text/plain": [
              "          hotel  is_canceled  ...  reservation_status  reservation_status_date\n",
              "0  Resort Hotel            0  ...           Check-Out               2015-07-01\n",
              "1  Resort Hotel            0  ...           Check-Out               2015-07-01\n",
              "2  Resort Hotel            0  ...           Check-Out               2015-07-02\n",
              "3  Resort Hotel            0  ...           Check-Out               2015-07-02\n",
              "4  Resort Hotel            0  ...           Check-Out               2015-07-03\n",
              "\n",
              "[5 rows x 32 columns]"
            ]
          },
          "metadata": {},
          "execution_count": 4
        }
      ]
    },
    {
      "cell_type": "code",
      "metadata": {
        "colab": {
          "base_uri": "https://localhost:8080/"
        },
        "id": "tJJoWcuPeNp0",
        "outputId": "6da1c63a-8a96-4787-bc7d-b5c2bb17506b"
      },
      "source": [
        "df.shape"
      ],
      "execution_count": 5,
      "outputs": [
        {
          "output_type": "execute_result",
          "data": {
            "text/plain": [
              "(119390, 32)"
            ]
          },
          "metadata": {},
          "execution_count": 5
        }
      ]
    },
    {
      "cell_type": "code",
      "metadata": {
        "colab": {
          "base_uri": "https://localhost:8080/"
        },
        "id": "W8aXbPjceQnS",
        "outputId": "d9f98404-19ff-4548-edfc-b8f366785120"
      },
      "source": [
        "df.info()"
      ],
      "execution_count": 6,
      "outputs": [
        {
          "output_type": "stream",
          "name": "stdout",
          "text": [
            "<class 'pandas.core.frame.DataFrame'>\n",
            "RangeIndex: 119390 entries, 0 to 119389\n",
            "Data columns (total 32 columns):\n",
            " #   Column                          Non-Null Count   Dtype  \n",
            "---  ------                          --------------   -----  \n",
            " 0   hotel                           119390 non-null  object \n",
            " 1   is_canceled                     119390 non-null  int64  \n",
            " 2   lead_time                       119390 non-null  int64  \n",
            " 3   arrival_date_year               119390 non-null  int64  \n",
            " 4   arrival_date_month              119390 non-null  object \n",
            " 5   arrival_date_week_number        119390 non-null  int64  \n",
            " 6   arrival_date_day_of_month       119390 non-null  int64  \n",
            " 7   stays_in_weekend_nights         119390 non-null  int64  \n",
            " 8   stays_in_week_nights            119390 non-null  int64  \n",
            " 9   adults                          119390 non-null  int64  \n",
            " 10  children                        119386 non-null  float64\n",
            " 11  babies                          119390 non-null  int64  \n",
            " 12  meal                            119390 non-null  object \n",
            " 13  country                         118902 non-null  object \n",
            " 14  market_segment                  119390 non-null  object \n",
            " 15  distribution_channel            119390 non-null  object \n",
            " 16  is_repeated_guest               119390 non-null  int64  \n",
            " 17  previous_cancellations          119390 non-null  int64  \n",
            " 18  previous_bookings_not_canceled  119390 non-null  int64  \n",
            " 19  reserved_room_type              119390 non-null  object \n",
            " 20  assigned_room_type              119390 non-null  object \n",
            " 21  booking_changes                 119390 non-null  int64  \n",
            " 22  deposit_type                    119390 non-null  object \n",
            " 23  agent                           103050 non-null  float64\n",
            " 24  company                         6797 non-null    float64\n",
            " 25  days_in_waiting_list            119390 non-null  int64  \n",
            " 26  customer_type                   119390 non-null  object \n",
            " 27  adr                             119390 non-null  float64\n",
            " 28  required_car_parking_spaces     119390 non-null  int64  \n",
            " 29  total_of_special_requests       119390 non-null  int64  \n",
            " 30  reservation_status              119390 non-null  object \n",
            " 31  reservation_status_date         119390 non-null  object \n",
            "dtypes: float64(4), int64(16), object(12)\n",
            "memory usage: 29.1+ MB\n"
          ]
        }
      ]
    },
    {
      "cell_type": "code",
      "metadata": {
        "colab": {
          "base_uri": "https://localhost:8080/"
        },
        "id": "-lcdr3oSwGYc",
        "outputId": "21ba72fb-d6d5-4dd2-c545-57bf8d4dc762"
      },
      "source": [
        "df.duplicated().sum()"
      ],
      "execution_count": 7,
      "outputs": [
        {
          "output_type": "execute_result",
          "data": {
            "text/plain": [
              "31994"
            ]
          },
          "metadata": {},
          "execution_count": 7
        }
      ]
    },
    {
      "cell_type": "code",
      "metadata": {
        "id": "xXgq89eFwYpv"
      },
      "source": [
        "# we can see above that there are a large amount of duplicated values\n",
        "# although as there are no unique values in the row, such as a booking ID, which means that these could be genuine entries\n",
        "# However, being similar on every parameter is highly unlikely\n",
        "# Hence we will drop the duplicates\n",
        "\n",
        "df= df.drop_duplicates()"
      ],
      "execution_count": 8,
      "outputs": []
    },
    {
      "cell_type": "code",
      "metadata": {
        "colab": {
          "base_uri": "https://localhost:8080/"
        },
        "id": "1AkRvPGSw3I_",
        "outputId": "50cae666-dfbb-43af-f603-4ce581cd90bf"
      },
      "source": [
        "df.shape"
      ],
      "execution_count": 9,
      "outputs": [
        {
          "output_type": "execute_result",
          "data": {
            "text/plain": [
              "(87396, 32)"
            ]
          },
          "metadata": {},
          "execution_count": 9
        }
      ]
    },
    {
      "cell_type": "code",
      "metadata": {
        "colab": {
          "base_uri": "https://localhost:8080/"
        },
        "id": "JMdlzuoneSog",
        "outputId": "be8908a5-1079-4b29-8bb0-d601ee1e873f"
      },
      "source": [
        "df.arrival_date_year.unique()"
      ],
      "execution_count": 10,
      "outputs": [
        {
          "output_type": "execute_result",
          "data": {
            "text/plain": [
              "array([2015, 2016, 2017])"
            ]
          },
          "metadata": {},
          "execution_count": 10
        }
      ]
    },
    {
      "cell_type": "code",
      "metadata": {
        "colab": {
          "base_uri": "https://localhost:8080/"
        },
        "id": "MCwfhUU6ef4f",
        "outputId": "dac167de-a62d-41f5-c0c6-abf42de38740"
      },
      "source": [
        "df.columns"
      ],
      "execution_count": 11,
      "outputs": [
        {
          "output_type": "execute_result",
          "data": {
            "text/plain": [
              "Index(['hotel', 'is_canceled', 'lead_time', 'arrival_date_year',\n",
              "       'arrival_date_month', 'arrival_date_week_number',\n",
              "       'arrival_date_day_of_month', 'stays_in_weekend_nights',\n",
              "       'stays_in_week_nights', 'adults', 'children', 'babies', 'meal',\n",
              "       'country', 'market_segment', 'distribution_channel',\n",
              "       'is_repeated_guest', 'previous_cancellations',\n",
              "       'previous_bookings_not_canceled', 'reserved_room_type',\n",
              "       'assigned_room_type', 'booking_changes', 'deposit_type', 'agent',\n",
              "       'company', 'days_in_waiting_list', 'customer_type', 'adr',\n",
              "       'required_car_parking_spaces', 'total_of_special_requests',\n",
              "       'reservation_status', 'reservation_status_date'],\n",
              "      dtype='object')"
            ]
          },
          "metadata": {},
          "execution_count": 11
        }
      ]
    },
    {
      "cell_type": "code",
      "metadata": {
        "id": "9uRcu8JbD0hH"
      },
      "source": [
        "from datetime import datetime"
      ],
      "execution_count": 12,
      "outputs": []
    },
    {
      "cell_type": "code",
      "metadata": {
        "id": "FgAoPJZ3DijQ"
      },
      "source": [
        "df['arrival_date_month'] = df['arrival_date_month'].apply(lambda x: datetime.strptime(x, '%B'))"
      ],
      "execution_count": 13,
      "outputs": []
    },
    {
      "cell_type": "code",
      "metadata": {
        "colab": {
          "base_uri": "https://localhost:8080/"
        },
        "id": "4kxYZCR5EMow",
        "outputId": "a666a862-16c3-4ba4-ceef-dc64c9850775"
      },
      "source": [
        "df['arrival_date_month'].unique()"
      ],
      "execution_count": 14,
      "outputs": [
        {
          "output_type": "execute_result",
          "data": {
            "text/plain": [
              "array(['1900-07-01T00:00:00.000000000', '1900-08-01T00:00:00.000000000',\n",
              "       '1900-09-01T00:00:00.000000000', '1900-10-01T00:00:00.000000000',\n",
              "       '1900-11-01T00:00:00.000000000', '1900-12-01T00:00:00.000000000',\n",
              "       '1900-01-01T00:00:00.000000000', '1900-02-01T00:00:00.000000000',\n",
              "       '1900-03-01T00:00:00.000000000', '1900-04-01T00:00:00.000000000',\n",
              "       '1900-05-01T00:00:00.000000000', '1900-06-01T00:00:00.000000000'],\n",
              "      dtype='datetime64[ns]')"
            ]
          },
          "metadata": {},
          "execution_count": 14
        }
      ]
    },
    {
      "cell_type": "code",
      "metadata": {
        "id": "gj8J2IvFEPr6"
      },
      "source": [
        "df['arrival_date_month'] = df['arrival_date_month'].apply(lambda x: x.month)"
      ],
      "execution_count": 15,
      "outputs": []
    },
    {
      "cell_type": "code",
      "metadata": {
        "colab": {
          "base_uri": "https://localhost:8080/"
        },
        "id": "QslAT0AFEr1d",
        "outputId": "88aed5fb-b0d2-4a61-d1db-ce208612dddf"
      },
      "source": [
        "df['arrival_date_month'].unique()"
      ],
      "execution_count": 16,
      "outputs": [
        {
          "output_type": "execute_result",
          "data": {
            "text/plain": [
              "array([ 7,  8,  9, 10, 11, 12,  1,  2,  3,  4,  5,  6])"
            ]
          },
          "metadata": {},
          "execution_count": 16
        }
      ]
    },
    {
      "cell_type": "code",
      "metadata": {
        "id": "9OSwozQ4GgxH"
      },
      "source": [
        "df['date'] = df[\"arrival_date_day_of_month\"].astype(str) + '-' + df[\"arrival_date_month\"].astype(str) + '-' + df[\"arrival_date_year\"].astype(str)"
      ],
      "execution_count": 17,
      "outputs": []
    },
    {
      "cell_type": "code",
      "metadata": {
        "id": "ZLAFSmOzISwn"
      },
      "source": [
        "df['date'] = df['date'].apply(lambda x: datetime.strptime(x, '%d-%m-%Y'))"
      ],
      "execution_count": 18,
      "outputs": []
    },
    {
      "cell_type": "code",
      "metadata": {
        "id": "_pCrcO2hJzqJ"
      },
      "source": [
        "df.rename(columns = {'is_canceled':'canceled', 'arrival_date_year':'year', 'arrival_date_month':'month', 'arrival_date_week_number':'week_of_month',\n",
        "                     'is_repeated_guest': 'repeated_guest'}, inplace = True)"
      ],
      "execution_count": 19,
      "outputs": []
    },
    {
      "cell_type": "code",
      "metadata": {
        "id": "37ace0uCK_dk"
      },
      "source": [
        "df.drop(columns = ['week_of_month'], inplace = True)"
      ],
      "execution_count": 20,
      "outputs": []
    },
    {
      "cell_type": "code",
      "metadata": {
        "id": "HuZp1wdh3FNb"
      },
      "source": [
        "df['children'] = df['children'].fillna(0)"
      ],
      "execution_count": 21,
      "outputs": []
    },
    {
      "cell_type": "code",
      "metadata": {
        "id": "BzT_FMrZLXHo"
      },
      "source": [
        "df['children'] = df['children'].astype('int')"
      ],
      "execution_count": 22,
      "outputs": []
    },
    {
      "cell_type": "code",
      "metadata": {
        "colab": {
          "base_uri": "https://localhost:8080/"
        },
        "id": "lQXHscmxqo7i",
        "outputId": "85752b07-9910-4320-fffb-a4aa6f5c6b35"
      },
      "source": [
        "df['reservation_status'].unique()"
      ],
      "execution_count": 23,
      "outputs": [
        {
          "output_type": "execute_result",
          "data": {
            "text/plain": [
              "array(['Check-Out', 'Canceled', 'No-Show'], dtype=object)"
            ]
          },
          "metadata": {},
          "execution_count": 23
        }
      ]
    },
    {
      "cell_type": "code",
      "metadata": {
        "id": "Mm2gDYtaryrN"
      },
      "source": [
        "# the reservation status column already accounts for cancelations, hence we can drop the column 'canceled'.\n",
        "# Also the column 'canceled' includes no-shows as well, but treat them as under the umbrella of canceled, which is differentiated in reservation status column \n",
        "\n",
        "df.drop(columns = ['canceled'], inplace = True)"
      ],
      "execution_count": 24,
      "outputs": []
    },
    {
      "cell_type": "code",
      "metadata": {
        "id": "bGYUg_gIsYkk"
      },
      "source": [
        "# the date column has been created, there is no need for a column for days of the month\n",
        "\n",
        "df.drop(columns = ['arrival_date_day_of_month'], inplace = True)"
      ],
      "execution_count": 25,
      "outputs": []
    },
    {
      "cell_type": "code",
      "metadata": {
        "id": "aIp1NyxbdKMt"
      },
      "source": [
        "df['reservation_status_date'] = df['reservation_status_date'].apply(lambda x: datetime.strptime(x, '%Y-%m-%d'))"
      ],
      "execution_count": 26,
      "outputs": []
    },
    {
      "cell_type": "code",
      "metadata": {
        "id": "3d9ehCSPtLwC"
      },
      "source": [
        "# we drop the agents column as it does not provide any valueable insights\n",
        "\n",
        "df.drop(columns = ['agent'], inplace = True)"
      ],
      "execution_count": 27,
      "outputs": []
    },
    {
      "cell_type": "code",
      "metadata": {
        "colab": {
          "base_uri": "https://localhost:8080/"
        },
        "id": "zVa2eMMuthDS",
        "outputId": "5cf68311-10f9-466e-f419-2c61aee916be"
      },
      "source": [
        "df['company'].isnull().sum()*100 / df.shape[0]"
      ],
      "execution_count": 28,
      "outputs": [
        {
          "output_type": "execute_result",
          "data": {
            "text/plain": [
              "93.98256213098998"
            ]
          },
          "metadata": {},
          "execution_count": 28
        }
      ]
    },
    {
      "cell_type": "code",
      "metadata": {
        "id": "-tGySaT2t_u9"
      },
      "source": [
        "df.drop(columns = ['company'], inplace = True)"
      ],
      "execution_count": 29,
      "outputs": []
    },
    {
      "cell_type": "code",
      "metadata": {
        "id": "eRHXc0aYuNed"
      },
      "source": [
        "df.rename(columns = {'total_of_special_requests':'special_requests', 'required_car_parking_spaces':'car_parks_required'}, inplace = True)"
      ],
      "execution_count": 30,
      "outputs": []
    },
    {
      "cell_type": "code",
      "metadata": {
        "id": "RlKtsNlXwEnV"
      },
      "source": [
        "df.drop(columns = ['adr'], inplace = True)"
      ],
      "execution_count": 31,
      "outputs": []
    },
    {
      "cell_type": "code",
      "metadata": {
        "id": "Dc0we2qPxTPl"
      },
      "source": [
        "df.rename(columns = {'previous_bookings_not_canceled':'previous_stays'}, inplace = True)"
      ],
      "execution_count": 32,
      "outputs": []
    },
    {
      "cell_type": "code",
      "metadata": {
        "id": "2aKOand03-wA"
      },
      "source": [
        "# nan values for country is less than 5%, it can be dropped\n",
        "\n",
        "df = df.dropna(axis = 0)"
      ],
      "execution_count": 33,
      "outputs": []
    },
    {
      "cell_type": "code",
      "metadata": {
        "colab": {
          "base_uri": "https://localhost:8080/"
        },
        "id": "yW0xTiIaz2Z7",
        "outputId": "27f176e2-efbf-4906-e4b4-d68ae2bdae43"
      },
      "source": [
        "df.year.unique()"
      ],
      "execution_count": 34,
      "outputs": [
        {
          "output_type": "execute_result",
          "data": {
            "text/plain": [
              "array([2015, 2016, 2017])"
            ]
          },
          "metadata": {},
          "execution_count": 34
        }
      ]
    },
    {
      "cell_type": "code",
      "metadata": {
        "id": "edBUV62RALle"
      },
      "source": [
        "df['kids'] = df.children + df.babies"
      ],
      "execution_count": 35,
      "outputs": []
    },
    {
      "cell_type": "code",
      "metadata": {
        "id": "FqhN-mQkY5HO"
      },
      "source": [
        "no_kids_df = df[df['kids'] == 0]"
      ],
      "execution_count": 36,
      "outputs": []
    },
    {
      "cell_type": "code",
      "metadata": {
        "id": "3xo3KBlFbk0p"
      },
      "source": [
        "with_kids_df = df[df['kids'] != 0]"
      ],
      "execution_count": 37,
      "outputs": []
    },
    {
      "cell_type": "code",
      "metadata": {
        "colab": {
          "base_uri": "https://localhost:8080/",
          "height": 52
        },
        "id": "IKMGH855M1TM",
        "outputId": "06f3e924-1252-483c-863f-61cfe4122ae6"
      },
      "source": [
        "'''def remove_outliers(col):\n",
        "  Q1 = df_new[col].quantile(0.25)\n",
        "  Q3 = df_new[col].quantile(0.75)\n",
        "  QR = Q3 - Q1\n",
        "\n",
        "\n",
        "  lower_limit = Q1 - 1.5*IQR\n",
        "  upper_limit = Q3 + 1.5*IQR\n",
        "\n",
        "  df_new1 = df_new[(df_new[col] > lower_limit) & (df_new[col] < upper_limit)]\n",
        "  \n",
        "  return df_new1'''"
      ],
      "execution_count": 38,
      "outputs": [
        {
          "output_type": "execute_result",
          "data": {
            "application/vnd.google.colaboratory.intrinsic+json": {
              "type": "string"
            },
            "text/plain": [
              "'def remove_outliers(col):\\n  Q1 = df_new[col].quantile(0.25)\\n  Q3 = df_new[col].quantile(0.75)\\n  QR = Q3 - Q1\\n\\n\\n  lower_limit = Q1 - 1.5*IQR\\n  upper_limit = Q3 + 1.5*IQR\\n\\n  df_new1 = df_new[(df_new[col] > lower_limit) & (df_new[col] < upper_limit)]\\n  \\n  return df_new1'"
            ]
          },
          "metadata": {},
          "execution_count": 38
        }
      ]
    },
    {
      "cell_type": "code",
      "metadata": {
        "id": "6jYmbpDayfRt"
      },
      "source": [
        "# num_cols = df.dtypes[(df.dtypes != \"object\") & (df.dtypes != \"datetime64[ns]\")].index\n"
      ],
      "execution_count": 39,
      "outputs": []
    },
    {
      "cell_type": "markdown",
      "metadata": {
        "id": "aAZC3V7bCcAI"
      },
      "source": [
        "# Univariate Analysis"
      ]
    },
    {
      "cell_type": "markdown",
      "metadata": {
        "id": "f7UhuGrPPMBA"
      },
      "source": [
        "Firstly, it is clear from the problem statement that the dataset contains information about two hotels: City hotel and Resort hotel, and not two types of hotel. Hence, all the further analysis will be done considering this fact. The reason this is important is that our analysis will only be limited to understanding the booking information during that peroid for those particular hotels. Our analysis will not generalize the booking trends of city and resorts hotels.\n",
        "\n",
        "Even with respect to these two hotels, we cannot generalise the findings for them. That is because the data collected is only for three years. This is a very short duration to understand any kind of trend."
      ]
    },
    {
      "cell_type": "code",
      "metadata": {
        "colab": {
          "base_uri": "https://localhost:8080/"
        },
        "id": "4IzmmPRGCodm",
        "outputId": "74765355-b909-45f8-fb16-4d88ec6d559b"
      },
      "source": [
        "df.columns"
      ],
      "execution_count": 40,
      "outputs": [
        {
          "output_type": "execute_result",
          "data": {
            "text/plain": [
              "Index(['hotel', 'lead_time', 'year', 'month', 'stays_in_weekend_nights',\n",
              "       'stays_in_week_nights', 'adults', 'children', 'babies', 'meal',\n",
              "       'country', 'market_segment', 'distribution_channel', 'repeated_guest',\n",
              "       'previous_cancellations', 'previous_stays', 'reserved_room_type',\n",
              "       'assigned_room_type', 'booking_changes', 'deposit_type',\n",
              "       'days_in_waiting_list', 'customer_type', 'car_parks_required',\n",
              "       'special_requests', 'reservation_status', 'reservation_status_date',\n",
              "       'date', 'kids'],\n",
              "      dtype='object')"
            ]
          },
          "metadata": {},
          "execution_count": 40
        }
      ]
    },
    {
      "cell_type": "markdown",
      "metadata": {
        "id": "qD8kkw4hETwo"
      },
      "source": [
        "Let us take some columns for univariate analysis and see if we can derive any insights out of them at this stage"
      ]
    },
    {
      "cell_type": "code",
      "metadata": {
        "colab": {
          "base_uri": "https://localhost:8080/",
          "height": 1000
        },
        "id": "jXGUiP4OCbKR",
        "outputId": "a908f2a0-3a78-4690-92b2-52d72281385f"
      },
      "source": [
        "cols_for_uni = ['hotel', 'year', 'market_segment', 'reserved_room_type', 'customer_type', 'reservation_status']\n",
        "\n",
        "for col in cols_for_uni:\n",
        "  fig= plt.figure(figsize=(12,6))\n",
        "  ax= fig.gca()\n",
        "  sns.countplot(df[col], x= col, ax= ax)\n",
        "  plt.show()"
      ],
      "execution_count": 41,
      "outputs": [
        {
          "output_type": "display_data",
          "data": {
            "image/png": "[encoded data removed]",
            "text/plain": [
              "<Figure size 864x432 with 1 Axes>"
            ]
          },
          "metadata": {
            "needs_background": "light"
          }
        },
        {
          "output_type": "display_data",
          "data": {
            "image/png": "[encoded data removed]",
            "text/plain": [
              "<Figure size 864x432 with 1 Axes>"
            ]
          },
          "metadata": {
            "needs_background": "light"
          }
        },
        {
          "output_type": "display_data",
          "data": {
            "image/png": "[encoded data removed]",
            "text/plain": [
              "<Figure size 864x432 with 1 Axes>"
            ]
          },
          "metadata": {
            "needs_background": "light"
          }
        },
        {
          "output_type": "display_data",
          "data": {
            "image/png": "[encoded data removed]",
            "text/plain": [
              "<Figure size 864x432 with 1 Axes>"
            ]
          },
          "metadata": {
            "needs_background": "light"
          }
        },
        {
          "output_type": "display_data",
          "data": {
            "image/png": "[encoded data removed]",
            "text/plain": [
              "<Figure size 864x432 with 1 Axes>"
            ]
          },
          "metadata": {
            "needs_background": "light"
          }
        },
        {
          "output_type": "display_data",
          "data": {
            "image/png": "[encoded data removed]",
            "text/plain": [
              "<Figure size 864x432 with 1 Axes>"
            ]
          },
          "metadata": {
            "needs_background": "light"
          }
        }
      ]
    },
    {
      "cell_type": "markdown",
      "metadata": {
        "id": "doEzuipjEj_O"
      },
      "source": [
        "**Some insights from the above**\n",
        "\n",
        "**Cancelations**: It can be seen that there are significant amount of cancelations across both hotels. Cancelations might be seen as aberrations, but it is clear from our data that the hotels may need to be ready for such occurances. The hotels can take insights from the data to understand what kind of customer is likely to cancel their bookings, and in turn make better marketing strategies.\n",
        "\n",
        "**Segment**: The largest segment is the Online TA. The hotels can do more to attract other segments as well. Also, we can check during our bivariate analysis for the segments from which we have the least cancelations and also the segment from which the hotels get repeat customers.\n",
        "\n",
        "**Number of bookings**: The city hotel was booked more than the resort hotel\n",
        "\n",
        "**Bookings over the years**: The data has been collected for 3 years. There is a steep rise in bookings between 2015 and 2016 and then a drop between 2016 and 2017. This kind of fluctuation may not be normal. This needs to be further investigated\n"
      ]
    },
    {
      "cell_type": "markdown",
      "metadata": {
        "id": "qTua-X3x2Gku"
      },
      "source": [
        "**Due to the anomaly seen in the trend of bookings over the years, we would like to check the months for which the data was collected for each of the years**"
      ]
    },
    {
      "cell_type": "code",
      "metadata": {
        "colab": {
          "base_uri": "https://localhost:8080/"
        },
        "id": "dLp-10cTeu1_",
        "outputId": "84bf2ff2-ae47-4a93-f134-e8a0114e35a5"
      },
      "source": [
        "# Checking the months for which the data was collected for each year\n",
        "\n",
        "df.groupby('year')['month'].unique()"
      ],
      "execution_count": 42,
      "outputs": [
        {
          "output_type": "execute_result",
          "data": {
            "text/plain": [
              "year\n",
              "2015                      [7, 8, 9, 10, 11, 12]\n",
              "2016    [1, 2, 3, 4, 5, 6, 7, 8, 9, 10, 11, 12]\n",
              "2017                   [1, 2, 3, 4, 5, 6, 7, 8]\n",
              "Name: month, dtype: object"
            ]
          },
          "metadata": {},
          "execution_count": 42
        }
      ]
    },
    {
      "cell_type": "markdown",
      "metadata": {
        "id": "QEZ142laN2B3"
      },
      "source": [
        "Hence, we can see that only 6 months of data was collected in 2015 and only 8 months of data was collected in 2017. Data collected started only in July, 2015 and ended in August, 2017.\n",
        "\n",
        "This finding is very significant as many of the analysis, such as the most popular month for booking either hotel, will lose significance. The only common months across the three years of data are July and August."
      ]
    },
    {
      "cell_type": "markdown",
      "metadata": {
        "id": "d6cxthIV24S0"
      },
      "source": [
        "# Bivariate Analysis"
      ]
    },
    {
      "cell_type": "markdown",
      "metadata": {
        "id": "Epd59vpS3CBg"
      },
      "source": [
        "Having gone through some univariate analysis, it seems necessary that we check out some significant connections between the various parameters we have got. Needless to say, we have to go for bivariate analysis for the same"
      ]
    },
    {
      "cell_type": "code",
      "metadata": {
        "colab": {
          "base_uri": "https://localhost:8080/"
        },
        "id": "F7pmsMsh3jYg",
        "outputId": "8ac98ff6-0261-478c-8c92-386c86a2fa9f"
      },
      "source": [
        "df.columns"
      ],
      "execution_count": 43,
      "outputs": [
        {
          "output_type": "execute_result",
          "data": {
            "text/plain": [
              "Index(['hotel', 'lead_time', 'year', 'month', 'stays_in_weekend_nights',\n",
              "       'stays_in_week_nights', 'adults', 'children', 'babies', 'meal',\n",
              "       'country', 'market_segment', 'distribution_channel', 'repeated_guest',\n",
              "       'previous_cancellations', 'previous_stays', 'reserved_room_type',\n",
              "       'assigned_room_type', 'booking_changes', 'deposit_type',\n",
              "       'days_in_waiting_list', 'customer_type', 'car_parks_required',\n",
              "       'special_requests', 'reservation_status', 'reservation_status_date',\n",
              "       'date', 'kids'],\n",
              "      dtype='object')"
            ]
          },
          "metadata": {},
          "execution_count": 43
        }
      ]
    },
    {
      "cell_type": "code",
      "metadata": {
        "colab": {
          "base_uri": "https://localhost:8080/",
          "height": 1000
        },
        "id": "6kEuKZij3BO6",
        "outputId": "e6e95e51-0c16-4cd0-f8cc-1813e54452be"
      },
      "source": [
        "# We must figure out some important columns that we can analyse with the hotel type\n",
        "\n",
        "cols_for_biv = ['stays_in_weekend_nights', 'stays_in_weekend_nights', 'kids', 'market_segment', 'customer_type', 'reservation_status']\n",
        "\n",
        "for col in cols_for_biv:\n",
        "  fig= plt.figure(figsize=(12,6))\n",
        "  ax= fig.gca()\n",
        "  sns.countplot(df[col], x= col, hue=df['hotel'], ax= ax)\n",
        "  plt.show()"
      ],
      "execution_count": 44,
      "outputs": [
        {
          "output_type": "display_data",
          "data": {
            "image/png": "[encoded data removed]",
            "text/plain": [
              "<Figure size 864x432 with 1 Axes>"
            ]
          },
          "metadata": {
            "needs_background": "light"
          }
        },
        {
          "output_type": "display_data",
          "data": {
            "image/png": "[encoded data removed]",
            "text/plain": [
              "<Figure size 864x432 with 1 Axes>"
            ]
          },
          "metadata": {
            "needs_background": "light"
          }
        },
        {
          "output_type": "display_data",
          "data": {
            "image/png": "[encoded data removed]",
            "text/plain": [
              "<Figure size 864x432 with 1 Axes>"
            ]
          },
          "metadata": {
            "needs_background": "light"
          }
        },
        {
          "output_type": "display_data",
          "data": {
            "image/png": "[encoded data removed]",
            "text/plain": [
              "<Figure size 864x432 with 1 Axes>"
            ]
          },
          "metadata": {
            "needs_background": "light"
          }
        },
        {
          "output_type": "display_data",
          "data": {
            "image/png": "[encoded data removed]",
            "text/plain": [
              "<Figure size 864x432 with 1 Axes>"
            ]
          },
          "metadata": {
            "needs_background": "light"
          }
        },
        {
          "output_type": "display_data",
          "data": {
            "image/png": "[encoded data removed]",
            "text/plain": [
              "<Figure size 864x432 with 1 Axes>"
            ]
          },
          "metadata": {
            "needs_background": "light"
          }
        }
      ]
    },
    {
      "cell_type": "markdown",
      "metadata": {
        "id": "h_VUXuGF6SPr"
      },
      "source": [
        "**Some insights from the above**\n",
        "\n",
        "**Duration of stay**: It can be seen for both hotels that the stay over weekends and even during the weekdays is higher for city hotel. Which is expected because the city hotel has more footfalls than the resort hotel in the first place. However, what is interesting is that the resort hotel has more stays as the duration of the stay increases. Which signifies that people preferred resort over the city hotel when it came to longer duration stays.\n",
        "\n",
        "**Kids**: The difference in the number of people without kids staying in city hotel is a lot higher than those staying in the resort hotel. This difference seems to drop as people have more kids. Which might point towards a growing preference for resort hotel among people with children\n",
        "\n",
        "**Market segment**: The city hotel caters to a lot of people from the online TA segment, which again is not surprising given the overall more footfalls in the city hotel. But whats interesting to note that the resort hotel has almost the same number of customers from all the other segments as the city hotel. Which means that the high footfall in the city hotel is mainly caused by the online TA segment alone.\n"
      ]
    },
    {
      "cell_type": "markdown",
      "metadata": {
        "id": "J_o5EMHaDFap"
      },
      "source": [
        "**Lets check the proportion of repeated guests for both the hotels**\n",
        "\n"
      ]
    },
    {
      "cell_type": "code",
      "metadata": {
        "colab": {
          "base_uri": "https://localhost:8080/",
          "height": 326
        },
        "id": "MRwB9D7NMthv",
        "outputId": "beebba64-61ef-498d-fa41-7722d5983953"
      },
      "source": [
        "df_rep_guest = df.groupby('market_segment')['repeated_guest'].value_counts().unstack()\n",
        "df_rep_guest"
      ],
      "execution_count": 45,
      "outputs": [
        {
          "output_type": "execute_result",
          "data": {
            "text/html": [
              "<div>\n",
              "<style scoped>\n",
              "    .dataframe tbody tr th:only-of-type {\n",
              "        vertical-align: middle;\n",
              "    }\n",
              "\n",
              "    .dataframe tbody tr th {\n",
              "        vertical-align: top;\n",
              "    }\n",
              "\n",
              "    .dataframe thead th {\n",
              "        text-align: right;\n",
              "    }\n",
              "</style>\n",
              "<table border=\"1\" class=\"dataframe\">\n",
              "  <thead>\n",
              "    <tr style=\"text-align: right;\">\n",
              "      <th>repeated_guest</th>\n",
              "      <th>0</th>\n",
              "      <th>1</th>\n",
              "    </tr>\n",
              "    <tr>\n",
              "      <th>market_segment</th>\n",
              "      <th></th>\n",
              "      <th></th>\n",
              "    </tr>\n",
              "  </thead>\n",
              "  <tbody>\n",
              "    <tr>\n",
              "      <th>Aviation</th>\n",
              "      <td>164.0</td>\n",
              "      <td>63.0</td>\n",
              "    </tr>\n",
              "    <tr>\n",
              "      <th>Complementary</th>\n",
              "      <td>474.0</td>\n",
              "      <td>224.0</td>\n",
              "    </tr>\n",
              "    <tr>\n",
              "      <th>Corporate</th>\n",
              "      <td>2587.0</td>\n",
              "      <td>1444.0</td>\n",
              "    </tr>\n",
              "    <tr>\n",
              "      <th>Direct</th>\n",
              "      <td>10872.0</td>\n",
              "      <td>776.0</td>\n",
              "    </tr>\n",
              "    <tr>\n",
              "      <th>Groups</th>\n",
              "      <td>4880.0</td>\n",
              "      <td>57.0</td>\n",
              "    </tr>\n",
              "    <tr>\n",
              "      <th>Offline TA/TO</th>\n",
              "      <td>13588.0</td>\n",
              "      <td>269.0</td>\n",
              "    </tr>\n",
              "    <tr>\n",
              "      <th>Online TA</th>\n",
              "      <td>50966.0</td>\n",
              "      <td>578.0</td>\n",
              "    </tr>\n",
              "    <tr>\n",
              "      <th>Undefined</th>\n",
              "      <td>2.0</td>\n",
              "      <td>NaN</td>\n",
              "    </tr>\n",
              "  </tbody>\n",
              "</table>\n",
              "</div>"
            ],
            "text/plain": [
              "repeated_guest        0       1\n",
              "market_segment                 \n",
              "Aviation          164.0    63.0\n",
              "Complementary     474.0   224.0\n",
              "Corporate        2587.0  1444.0\n",
              "Direct          10872.0   776.0\n",
              "Groups           4880.0    57.0\n",
              "Offline TA/TO   13588.0   269.0\n",
              "Online TA       50966.0   578.0\n",
              "Undefined           2.0     NaN"
            ]
          },
          "metadata": {},
          "execution_count": 45
        }
      ]
    },
    {
      "cell_type": "code",
      "metadata": {
        "colab": {
          "base_uri": "https://localhost:8080/",
          "height": 435
        },
        "id": "D4oYySIhDZN3",
        "outputId": "f5221bb5-25e2-4ffa-95d7-8bf450827b76"
      },
      "source": [
        "df_rep_guest.plot(kind = 'bar', figsize = (10,5))"
      ],
      "execution_count": 46,
      "outputs": [
        {
          "output_type": "execute_result",
          "data": {
            "text/plain": [
              "<matplotlib.axes._subplots.AxesSubplot at 0x7fd941d09310>"
            ]
          },
          "metadata": {},
          "execution_count": 46
        },
        {
          "output_type": "display_data",
          "data": {
            "image/png": "[encoded data removed]",
            "text/plain": [
              "<Figure size 720x360 with 1 Axes>"
            ]
          },
          "metadata": {
            "needs_background": "light"
          }
        }
      ]
    },
    {
      "cell_type": "markdown",
      "metadata": {
        "id": "Bws9CEtCDhxG"
      },
      "source": [
        "The highest proportion of repeated guest is from the complimentary segment, however the guests from this segment are very few\n",
        "\n",
        "Second highest proportion of repeated guests is from the Corporate segment. This could be because people returning to the same place for their work purposes."
      ]
    },
    {
      "cell_type": "markdown",
      "metadata": {
        "id": "E5FdHJX2EBzF"
      },
      "source": [
        "**Cancelations**\n",
        "\n",
        "We have already seen above during the univariate analysis that there are many cancelations. We can check which segment amounts for most cancelations."
      ]
    },
    {
      "cell_type": "code",
      "metadata": {
        "colab": {
          "base_uri": "https://localhost:8080/",
          "height": 465
        },
        "id": "D_zIiLD6bAHJ",
        "outputId": "5d6472ec-99c9-4b55-e61e-84bebffa6c78"
      },
      "source": [
        "fig= plt.figure(figsize=(15,7))\n",
        "sns.countplot(x = 'market_segment', data = df, hue = 'reservation_status')"
      ],
      "execution_count": 47,
      "outputs": [
        {
          "output_type": "execute_result",
          "data": {
            "text/plain": [
              "<matplotlib.axes._subplots.AxesSubplot at 0x7fd942c756d0>"
            ]
          },
          "metadata": {},
          "execution_count": 47
        },
        {
          "output_type": "display_data",
          "data": {
            "image/png": "[encoded data removed]",
            "text/plain": [
              "<Figure size 1080x504 with 1 Axes>"
            ]
          },
          "metadata": {
            "needs_background": "light"
          }
        }
      ]
    },
    {
      "cell_type": "markdown",
      "metadata": {
        "id": "EMtrXvTSEUq2"
      },
      "source": [
        "Above, we can see that the cancelations are almost half of that of those booking that were not canceled in the Online Travel Agent segment. Hence, this segment amounts to the highest proportion of cancelations. All the other segments have relatively lesser cancelations.\n",
        "\n",
        "The hotels might want to come up with stricter booking criteria for online TA's, in order to filter out non-serious travelers."
      ]
    },
    {
      "cell_type": "markdown",
      "metadata": {
        "id": "Ws81W4AL25tX"
      },
      "source": [
        "We have made the relevant conclusions at relevant places. However it is pertinent to note that the data is of a very limited period and for just two hotels. So these analysis do not paint a general picture. These observations could be limited to these hotels only given their own special characteristics."
      ]
    },
    {
      "cell_type": "code",
      "metadata": {
        "id": "jPLjvCta3YLE"
      },
      "source": [
        ""
      ],
      "execution_count": null,
      "outputs": []
    }
  ]
}